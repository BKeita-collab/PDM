{
 "cells": [
  {
   "cell_type": "code",
   "execution_count": 1,
   "id": "61633956",
   "metadata": {},
   "outputs": [],
   "source": [
    "import requests\n",
    "import json"
   ]
  },
  {
   "cell_type": "code",
   "execution_count": 3,
   "id": "32a17d91",
   "metadata": {},
   "outputs": [],
   "source": [
    "def best_journey(post_url, start,end,authentification): \n",
    "    \"\"\"\n",
    "    This function will compute the best direction from start to end\n",
    "\n",
    "    Parameters\n",
    "    ----------\n",
    "    start : tuple \n",
    "        It's the starting point.\n",
    "        Ex: (2.36309,48.86703)\n",
    "    \n",
    "    end : tuple \n",
    "        It's the destination point.\n",
    "        Ex: (2.32738,48.86381)\n",
    "    \n",
    "    authentification: str \n",
    "        It's the token, it's the authentification key. By default, my values will be use. \n",
    "        Ex : 5b3ce3597851110001cf6248a43df362067a4396a8d747bfe12d47c6\n",
    "\n",
    "    Returns\n",
    "    -------\n",
    "    distance : float.\n",
    "        It's the distance in meter(m) return in meter. \n",
    "        Ex : 2592687\n",
    "    duration : float.\n",
    "        It's the time in seconde(s) spent to go from starting point to the destination point. \n",
    "        Ex : 25 \n",
    "        \n",
    "\n",
    "    \"\"\"\n",
    "    body = {\"coordinates\":[[start[0],start[1]],[end[0],end[1]]]}\n",
    "\n",
    "    r = requests.post(post_url,headers = header_dict, json = body)\n",
    "\n",
    "    if r.status_code == 200:\n",
    "        # Get returned data of the request\n",
    "        returned_data = r.text\n",
    "        # Transform JSON data to Python object\n",
    "        data = json.loads(returned_data)\n",
    "        # We Print data with indentation using json module\n",
    "        #data_dumped = json.dumps(data, indent=4)\n",
    "        distance = data['routes'][0]['summary']['distance']\n",
    "        duration = data['routes'][0]['summary']['duration']\n",
    "        return distance , duration \n",
    "    else:\n",
    "        #print(\"error: status_code={}\".format(r.status_code))\n",
    "        returned_data = \"error: status_code={}\".format(r.status_code)\n",
    "        return returned_data"
   ]
  },
  {
   "cell_type": "code",
   "execution_count": null,
   "id": "3be240a4",
   "metadata": {},
   "outputs": [],
   "source": []
  },
  {
   "cell_type": "code",
   "execution_count": null,
   "id": "d4ea41a1",
   "metadata": {},
   "outputs": [],
   "source": []
  }
 ],
 "metadata": {
  "kernelspec": {
   "display_name": "Python 3 (ipykernel)",
   "language": "python",
   "name": "python3"
  },
  "language_info": {
   "codemirror_mode": {
    "name": "ipython",
    "version": 3
   },
   "file_extension": ".py",
   "mimetype": "text/x-python",
   "name": "python",
   "nbconvert_exporter": "python",
   "pygments_lexer": "ipython3",
   "version": "3.9.7"
  }
 },
 "nbformat": 4,
 "nbformat_minor": 5
}
