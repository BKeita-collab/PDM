{
 "cells": [
  {
   "cell_type": "markdown",
   "id": "8a1fe1a8",
   "metadata": {},
   "source": [
    "## Function create to calculate the location "
   ]
  },
  {
   "cell_type": "code",
   "execution_count": 2,
   "id": "fbd2abca",
   "metadata": {},
   "outputs": [],
   "source": [
    "import json \n",
    "import requests"
   ]
  },
  {
   "cell_type": "code",
   "execution_count": null,
   "id": "59a612e1",
   "metadata": {},
   "outputs": [],
   "source": []
  },
  {
   "cell_type": "code",
   "execution_count": 5,
   "id": "d651ae45",
   "metadata": {},
   "outputs": [],
   "source": [
    "def adress_coord(geocoding_url,authentification): \n",
    "    \"\"\"\n",
    "    This function will convert an input adress in str and will return \n",
    "    the coordinates that matches the input adress\n",
    "\n",
    "    Parameters\n",
    "    ----------\n",
    "    geocoding_url : str\n",
    "        It's the requests send by the user.\n",
    "        Ex: https://api.openrouteservice.org/geocode/search?api_key=5b3ce3597851110001cf624894bc9991e18844d58c8215f966965e3d&text=5%20avenue%20Anatole%20France,%2075007%20Paris\n",
    "    \n",
    "    authentification: str \n",
    "        It's the token, it's the authentification key. By default, my values will be use. \n",
    "        Ex : 5b3ce3597851110001cf6248a43df362067a4396a8d747bfe12d47c6\n",
    "\n",
    "    Returns\n",
    "    -------\n",
    "    coordinates : list.\n",
    "    It's the coordinates of the corresponding point of the adress. \n",
    "    Ex : [2.592687, 48.840096]\n",
    "\n",
    "    \"\"\"\n",
    "    r = requests.get(geocoding_url, authentification)\n",
    "    \n",
    "    if r.status_code == 200:\n",
    "        # Get returned data of the request\n",
    "        returned_data = r.text\n",
    "         # Transform JSON data to Python object\n",
    "        data = json.loads(returned_data)\n",
    "        # We Print data with indentation using json module\n",
    "        #data_dumped = json.dumps(data, indent=4)\n",
    "        coordinates = data['features'][0]['geometry']['coordinates']\n",
    "\n",
    "        return coordinates \n",
    "    else:\n",
    "        #print(\"error: status_code={}\".format(r.status_code))\n",
    "        returned_data = \"error: status_code={}\".format(r.status_code)\n",
    "        return returned_data"
   ]
  },
  {
   "cell_type": "code",
   "execution_count": null,
   "id": "36b4fc89",
   "metadata": {},
   "outputs": [],
   "source": []
  },
  {
   "cell_type": "code",
   "execution_count": null,
   "id": "7b643f7b",
   "metadata": {},
   "outputs": [],
   "source": []
  },
  {
   "cell_type": "code",
   "execution_count": null,
   "id": "7055ebca",
   "metadata": {},
   "outputs": [],
   "source": []
  }
 ],
 "metadata": {
  "kernelspec": {
   "display_name": "Python 3 (ipykernel)",
   "language": "python",
   "name": "python3"
  },
  "language_info": {
   "codemirror_mode": {
    "name": "ipython",
    "version": 3
   },
   "file_extension": ".py",
   "mimetype": "text/x-python",
   "name": "python",
   "nbconvert_exporter": "python",
   "pygments_lexer": "ipython3",
   "version": "3.9.7"
  }
 },
 "nbformat": 4,
 "nbformat_minor": 5
}
