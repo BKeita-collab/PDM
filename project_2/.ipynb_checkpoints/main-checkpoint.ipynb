{
 "cells": [
  {
   "cell_type": "markdown",
   "id": "9e8c605e",
   "metadata": {},
   "source": [
    "## Project 2"
   ]
  },
  {
   "cell_type": "code",
   "execution_count": 6,
   "id": "b241e0c8",
   "metadata": {},
   "outputs": [],
   "source": [
    "### Module imports\n",
    "import numpy as np\n",
    "import pandas as pd \n",
    "import matplotlib.pyplot as plt \n",
    "from sqlalchemy import create_engine\n",
    "import shapefile\n",
    "\n",
    "## import of the 2 functions geocoding: adress_coord and best journey: best_journey\n",
    "from location import adress_coord\n",
    "from locations import pd_adress_coord\n",
    "from best_journey import best_journey"
   ]
  },
  {
   "cell_type": "markdown",
   "id": "9c4d6024",
   "metadata": {},
   "source": [
    "### 1. Open the data "
   ]
  },
  {
   "cell_type": "code",
   "execution_count": 2,
   "id": "16d826a0",
   "metadata": {},
   "outputs": [
    {
     "data": {
      "text/html": [
       "<div>\n",
       "<style scoped>\n",
       "    .dataframe tbody tr th:only-of-type {\n",
       "        vertical-align: middle;\n",
       "    }\n",
       "\n",
       "    .dataframe tbody tr th {\n",
       "        vertical-align: top;\n",
       "    }\n",
       "\n",
       "    .dataframe thead th {\n",
       "        text-align: right;\n",
       "    }\n",
       "</style>\n",
       "<table border=\"1\" class=\"dataframe\">\n",
       "  <thead>\n",
       "    <tr style=\"text-align: right;\">\n",
       "      <th></th>\n",
       "      <th>school_name</th>\n",
       "      <th>school_address</th>\n",
       "    </tr>\n",
       "  </thead>\n",
       "  <tbody>\n",
       "    <tr>\n",
       "      <th>0</th>\n",
       "      <td>ANTOINE COYSEVOX</td>\n",
       "      <td>16 Rue Coysevox, 75018 Paris</td>\n",
       "    </tr>\n",
       "    <tr>\n",
       "      <th>1</th>\n",
       "      <td>HECTOR BERLIOZ</td>\n",
       "      <td>17 Rue Georgette Agutte, 75018 Paris</td>\n",
       "    </tr>\n",
       "    <tr>\n",
       "      <th>2</th>\n",
       "      <td>GERARD PHILIPE</td>\n",
       "      <td>8 Rue des Amiraux, 75018 Paris</td>\n",
       "    </tr>\n",
       "    <tr>\n",
       "      <th>3</th>\n",
       "      <td>MARIE CURIE</td>\n",
       "      <td>21 Rue Boinod, 75018 Paris</td>\n",
       "    </tr>\n",
       "    <tr>\n",
       "      <th>4</th>\n",
       "      <td>EDOUARD PAILLERON</td>\n",
       "      <td>33 Rue Edouard Pailleron, 75019 Paris</td>\n",
       "    </tr>\n",
       "  </tbody>\n",
       "</table>\n",
       "</div>"
      ],
      "text/plain": [
       "         school_name                         school_address\n",
       "0   ANTOINE COYSEVOX           16 Rue Coysevox, 75018 Paris\n",
       "1     HECTOR BERLIOZ   17 Rue Georgette Agutte, 75018 Paris\n",
       "2     GERARD PHILIPE         8 Rue des Amiraux, 75018 Paris\n",
       "3        MARIE CURIE             21 Rue Boinod, 75018 Paris\n",
       "4  EDOUARD PAILLERON  33 Rue Edouard Pailleron, 75019 Paris"
      ]
     },
     "execution_count": 2,
     "metadata": {},
     "output_type": "execute_result"
    }
   ],
   "source": [
    "students_list = pd.read_csv('students.csv')\n",
    "schools_list = pd.read_csv('schools.csv')\n",
    "\n",
    "## To test the requests on table student\n",
    "test_students = pd.read_csv('test_students.csv')\n",
    "\n",
    "schools_list.head()"
   ]
  },
  {
   "cell_type": "markdown",
   "id": "079fc190",
   "metadata": {},
   "source": [
    "## By using openrouteservice API\n",
    "- we create and test a function to geolocate\n",
    "- we create a function to have the best journey between two locations"
   ]
  },
  {
   "cell_type": "code",
   "execution_count": 3,
   "id": "87bc787f",
   "metadata": {},
   "outputs": [],
   "source": [
    "### Geocoding URL \n",
    "url_geocoding = 'https://api.openrouteservice.org/geocode/search?api_key=5b3ce3597851110001cf624894bc9991e18844d58c8215f966965e3d&text=5 avenue Anatole France, 75007 Paris'\n",
    "\n",
    "\n",
    "## Header Dictionnary \n",
    "header_dict = {\n",
    "    \"Authorization\" : '5b3ce3597851110001cf624894bc9991e18844d58c8215f966965e3d'\n",
    "}\n",
    "\n",
    "## best_journey URL \n",
    "post_url = 'https://api.openrouteservice.org/v2/' + 'directions/' + 'foot-walking/' + 'json'"
   ]
  },
  {
   "cell_type": "code",
   "execution_count": 7,
   "id": "6929c95c",
   "metadata": {},
   "outputs": [],
   "source": [
    "## Test requests of the 2 functions \n",
    "\n",
    "## geocoding an adress \n",
    "test_1 = adress_coord(url_geocoding, header_dict)\n",
    "\n",
    "## find the best journey between two locations\n",
    "a = best_journey(post_url,(2.36309,48.86703),(2.32738,48.86381),header_dict[\"Authorization\"], 'name',False)"
   ]
  },
  {
   "cell_type": "markdown",
   "id": "731a35d1",
   "metadata": {},
   "source": [
    "## Calculate data"
   ]
  },
  {
   "cell_type": "code",
   "execution_count": 4,
   "id": "36a298b0",
   "metadata": {},
   "outputs": [],
   "source": [
    "## ------------- 3.1--------------------------####\n",
    "## Generating school_location.csv\n",
    "\n",
    "pd_adress_coord(schools_list,header_dict[\"Authorization\" ],'schools_location')"
   ]
  },
  {
   "cell_type": "code",
   "execution_count": 5,
   "id": "07643fd0",
   "metadata": {},
   "outputs": [],
   "source": [
    "## ------------- 3.2--------------------------####\n",
    "### Create, for each student, a JSON file (journey_<student_id>.json) \n",
    "## with the best journey between his home and his school (put them in a subfolder journeys)\n",
    "\n",
    "for i in range (test_students.shape[0]):\n",
    "    \n",
    "    authentification = header_dict[\"Authorization\"]\n",
    "    start = (students_list.loc[i][4], students_list.loc[i][3])\n",
    "    geocoding_url= 'https://api.openrouteservice.org/geocode/search?api_key='+ authentification+'&text='+schools_list.loc[schools_list['school_name'] == students_list.loc[i][2]].school_address[0]\n",
    "    \n",
    "    end = (adress_coord(geocoding_url,header_dict)[0],adress_coord(geocoding_url,header_dict)[1])\n",
    "    \n",
    "    name = str(students_list.loc[i][0])\n",
    "    post_url = 'https://api.openrouteservice.org/v2/' + 'directions/' + 'foot-walking/' + 'json'\n",
    "    \n",
    "    best_journey(post_url, start,end,authentification,name, json_file=True)"
   ]
  },
  {
   "cell_type": "markdown",
   "id": "e541be35",
   "metadata": {},
   "source": [
    "## 4. create a students_stat.csv file with the duration (in seconds) of the journey of each student between his home and his school"
   ]
  },
  {
   "cell_type": "code",
   "execution_count": 24,
   "id": "04397e21",
   "metadata": {
    "scrolled": false
   },
   "outputs": [],
   "source": [
    "### Append a new columns on the file test_students\n",
    "durations = []\n",
    "\n",
    "for i in range (test_students.shape[0]):\n",
    "    \n",
    "    authentification = header_dict[\"Authorization\"]\n",
    "    start = (test_students.loc[i][4], test_students.loc[i][3])    \n",
    "    \n",
    "    geocoding_url= 'https://api.openrouteservice.org/geocode/search?api_key='+ authentification+'&text='+schools_list.loc[schools_list['school_name'] == students_list.loc[i][2]].school_address[0]\n",
    "    \n",
    "    end = (adress_coord(geocoding_url,header_dict)[0],adress_coord(geocoding_url,header_dict)[1])\n",
    "\n",
    "    post_url = 'https://api.openrouteservice.org/v2/' + 'directions/' + 'foot-walking/' + 'json'\n",
    "    \n",
    "    \n",
    "    distance, duration = best_journey(post_url, start,end,authentification,'name', False)\n",
    "    \n",
    "    durations.append(duration)\n",
    "    #print(i , duration)\n",
    "\n",
    "test_students['duration'] = durations"
   ]
  },
  {
   "cell_type": "markdown",
   "id": "aa8610ae",
   "metadata": {},
   "source": [
    "## Make statistics"
   ]
  },
  {
   "cell_type": "code",
   "execution_count": 14,
   "id": "ee9f8021",
   "metadata": {},
   "outputs": [
    {
     "data": {
      "text/plain": [
       "<AxesSubplot:xlabel='id'>"
      ]
     },
     "execution_count": 14,
     "metadata": {},
     "output_type": "execute_result"
    },
    {
     "data": {
      "image/png": "[encoded data removed]",
      "text/plain": [
       "<Figure size 432x288 with 1 Axes>"
      ]
     },
     "metadata": {
      "needs_background": "light"
     },
     "output_type": "display_data"
    }
   ],
   "source": [
    "####---------4.2-------------------------##\n",
    "## A global Bar chart of the duration \n",
    "\n",
    "test_students.plot(x = 'id', y = 'duration', kind = 'bar')"
   ]
  },
  {
   "cell_type": "code",
   "execution_count": 25,
   "id": "c976f165",
   "metadata": {},
   "outputs": [
    {
     "data": {
      "text/plain": [
       "<AxesSubplot:xlabel='school_name'>"
      ]
     },
     "execution_count": 25,
     "metadata": {},
     "output_type": "execute_result"
    },
    {
     "data": {
      "image/png": "[encoded data removed]",
      "text/plain": [
       "<Figure size 432x288 with 1 Axes>"
      ]
     },
     "metadata": {
      "needs_background": "light"
     },
     "output_type": "display_data"
    }
   ],
   "source": [
    "####---------4.3-------------------------##\n",
    "## A global Bar chart of the duration for each \n",
    "duration_school = test_students['duration'].groupby(by = test_students['school_name']).sum()\n",
    "duration_school.plot(x = test_students['school_name'] ,kind = 'bar', legend = True)"
   ]
  },
  {
   "cell_type": "markdown",
   "id": "f0ab7d3c",
   "metadata": {},
   "source": [
    "## Make Shapefile data: (optional)"
   ]
  },
  {
   "cell_type": "code",
   "execution_count": 26,
   "id": "a0307e9f",
   "metadata": {},
   "outputs": [],
   "source": [
    "schools_location = pd.read_csv('schools_location.csv')"
   ]
  },
  {
   "cell_type": "code",
   "execution_count": 21,
   "id": "b3cee025",
   "metadata": {},
   "outputs": [],
   "source": [
    "## Creation of a function to create a geometry point and write it in a shapefile \n",
    "\n",
    "def create_shp(data, fields, geometry_fields,output):\n",
    "    with shapefile.Writer(output) as w:\n",
    "    \n",
    "    ### creation of the needs fields\n",
    "        for i in range (len(fields)):\n",
    "            w.field(fields[i], 'C')\n",
    "\n",
    "        ### recording of the element\n",
    "        for i in range(data.shape[0]):\n",
    "            ## record_raw will save all the values of each lenght \n",
    "            #and then will be use to split to be record \n",
    "            \n",
    "            record_raw = str()\n",
    "            for j in range (len(fields)):\n",
    "                if record_raw == '':\n",
    "                    record_raw = str(data[fields[j]].loc[i])\n",
    "                else : \n",
    "                    record_raw = record_raw + ':' + str(data[fields[j]].loc[i])\n",
    "                \n",
    "            ## Recording of the fields\n",
    "            w.record(*record_raw.split(':'))\n",
    "            \n",
    "            ## Recording of the geometry fields \n",
    "            w.point(data[geometry_fields[0]].loc[i],data[geometry_fields[1]].loc[i])\n",
    "            \n",
    "    return output"
   ]
  },
  {
   "cell_type": "code",
   "execution_count": 22,
   "id": "03e37347",
   "metadata": {
    "scrolled": false
   },
   "outputs": [
    {
     "data": {
      "text/plain": [
       "'shapefiles/students'"
      ]
     },
     "execution_count": 22,
     "metadata": {},
     "output_type": "execute_result"
    }
   ],
   "source": [
    "### Creation of students files \n",
    "create_shp(students_list, ['id','student_address', 'school_name'],\n",
    "           ['student_longitude', 'student_latitude'], 'shapefiles/students')"
   ]
  },
  {
   "cell_type": "code",
   "execution_count": 23,
   "id": "d9b7c720",
   "metadata": {},
   "outputs": [
    {
     "data": {
      "text/plain": [
       "'shapefiles/schools'"
      ]
     },
     "execution_count": 23,
     "metadata": {},
     "output_type": "execute_result"
    }
   ],
   "source": [
    "### Creation of school files \n",
    "create_shp(schools_location, ['school_address'],\n",
    "           ['latitude', 'longitude'], 'shapefiles/schools')"
   ]
  }
 ],
 "metadata": {
  "kernelspec": {
   "display_name": "Python 3 (ipykernel)",
   "language": "python",
   "name": "python3"
  },
  "language_info": {
   "codemirror_mode": {
    "name": "ipython",
    "version": 3
   },
   "file_extension": ".py",
   "mimetype": "text/x-python",
   "name": "python",
   "nbconvert_exporter": "python",
   "pygments_lexer": "ipython3",
   "version": "3.9.7"
  }
 },
 "nbformat": 4,
 "nbformat_minor": 5
}
