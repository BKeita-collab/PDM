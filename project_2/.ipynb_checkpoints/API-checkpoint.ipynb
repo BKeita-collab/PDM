{
 "cells": [
  {
   "cell_type": "code",
   "execution_count": 1,
   "id": "15a485c9",
   "metadata": {},
   "outputs": [],
   "source": [
    "## Importation of the packages \n",
    "import json \n",
    "import requests"
   ]
  },
  {
   "cell_type": "code",
   "execution_count": 2,
   "id": "417d9d3b",
   "metadata": {},
   "outputs": [],
   "source": [
    "## Header Dictionnary \n",
    "header_dict = {\n",
    "    \"Authorization\" : '5b3ce3597851110001cf624894bc9991e18844d58c8215f966965e3d'\n",
    "}\n"
   ]
  },
  {
   "cell_type": "code",
   "execution_count": 3,
   "id": "adee96cd",
   "metadata": {},
   "outputs": [],
   "source": [
    "### Geocoding URL \n",
    "url_geocoding = 'https://api.openrouteservice.org/geocode/search?api_key=5b3ce3597851110001cf624894bc9991e18844d58c8215f966965e3d&text=5 avenue Anatole France, 75007 Paris'\n"
   ]
  },
  {
   "cell_type": "code",
   "execution_count": 6,
   "id": "ed1b8096",
   "metadata": {},
   "outputs": [
    {
     "data": {
      "text/plain": [
       "'{\"geocoding\":{\"version\":\"0.2\",\"attribution\":\"https://openrouteservice.org/terms-of-service/#attribution-geocode\",\"query\":{\"text\":\"5 avenue Anatole France, 75007 Paris\",\"size\":10,\"private\":false,\"lang\":{\"name\":\"English\",\"iso6391\":\"en\",\"iso6393\":\"eng\",\"via\":\"default\",\"defaulted\":true},\"querySize\":20,\"parser\":\"libpostal\",\"parsed_text\":{\"housenumber\":\"5\",\"street\":\"avenue anatole france\",\"postalcode\":\"75007\",\"city\":\"paris\"}},\"warnings\":[\"Invalid Parameter: 5b3ce3597851110001cf6248a43df362067a4396a8d747bfe12d47c6\"],\"engine\":{\"name\":\"Pelias\",\"author\":\"Mapzen\",\"version\":\"1.0\"},\"timestamp\":1635251471418},\"type\":\"FeatureCollection\",\"features\":[{\"type\":\"Feature\",\"geometry\":{\"type\":\"Point\",\"coordinates\":[2.294597,48.858819]},\"properties\":{\"id\":\"fr/countrywide:2dd6a8b49a9cee19\",\"gid\":\"openaddresses:address:fr/countrywide:2dd6a8b49a9cee19\",\"layer\":\"address\",\"source\":\"openaddresses\",\"source_id\":\"fr/countrywide:2dd6a8b49a9cee19\",\"name\":\"5 Avenue Anatole France\",\"housenumber\":\"5\",\"street\":\"Avenue Anatole France\",\"postalcode\":\"75007\",\"confidence\":1,\"match_type\":\"exact\",\"accuracy\":\"point\",\"country\":\"France\",\"country_gid\":\"whosonfirst:country:85633147\",\"country_a\":\"FRA\",\"macroregion\":\"Ile-of-France\",\"macroregion_gid\":\"whosonfirst:macroregion:404227465\",\"macroregion_a\":\"IF\",\"region\":\"Paris\",\"region_gid\":\"whosonfirst:region:85683497\",\"region_a\":\"VP\",\"localadmin\":\"Paris\",\"localadmin_gid\":\"whosonfirst:localadmin:1159322569\",\"locality\":\"Paris\",\"locality_gid\":\"whosonfirst:locality:101751119\",\"borough\":\"7th Arrondissement\",\"borough_gid\":\"whosonfirst:borough:1158894245\",\"neighbourhood\":\"Gros Caillou\",\"neighbourhood_gid\":\"whosonfirst:neighbourhood:85873841\",\"continent\":\"Europe\",\"continent_gid\":\"whosonfirst:continent:102191581\",\"label\":\"5 Avenue Anatole France, Paris, France\"}}],\"bbox\":[2.294597,48.858819,2.294597,48.858819]}'"
      ]
     },
     "execution_count": 6,
     "metadata": {},
     "output_type": "execute_result"
    }
   ],
   "source": [
    "def location(geocoding_url,authentification = '5b3ce3597851110001cf6248a43df362067a4396a8d747bfe12d47c6' ): \n",
    "    \"\"\"\n",
    "    This function will convert an input adress in str and will return \n",
    "    the coordinates that matches the input adress\n",
    "\n",
    "    Parameters\n",
    "    ----------\n",
    "    geocoding_url : str\n",
    "        It's the requests send by the user.\n",
    "        Ex: https://api.openrouteservice.org/geocode/search?api_key=5b3ce3597851110001cf624894bc9991e18844d58c8215f966965e3d&text=5%20avenue%20Anatole%20France,%2075007%20Paris\n",
    "    \n",
    "    authentification: str \n",
    "        It's the token, it's the authentification key. By default, my values will be use. \n",
    "        Ex : 5b3ce3597851110001cf6248a43df362067a4396a8d747bfe12d47c6\n",
    "\n",
    "    Returns\n",
    "    -------\n",
    "    JSON file.\n",
    "    It's all the adresses that matches the user's input adress. \n",
    "    Accurated is the adresses, accurate will be the returned adress\n",
    "\n",
    "    \"\"\"\n",
    "    r = requests.get(geocoding_url, authentification)\n",
    "    \n",
    "    if r.status_code == 200:\n",
    "        # Get returned data of the request\n",
    "        returned_data = r.text\n",
    "        # Print returned_data\n",
    "        #print(returned_data)\n",
    "        return returned_data\n",
    "    else:\n",
    "        #print(\"error: status_code={}\".format(r.status_code))\n",
    "        returned_data = \"error: status_code={}\".format(r.status_code)\n",
    "        return returned_data\n",
    "\n",
    "geocoding_url = 'https://api.openrouteservice.org/geocode/search?api_key=5b3ce3597851110001cf624894bc9991e18844d58c8215f966965e3d&text=5 avenue Anatole France, 75007 Paris'\n",
    "test_1 = location(geocoding_url)\n"
   ]
  },
  {
   "cell_type": "code",
   "execution_count": 8,
   "id": "f731c5a6",
   "metadata": {},
   "outputs": [],
   "source": [
    "geocoding_url = 'https://api.openrouteservice.org/geocode/search?' + 'api_key = 5b3ce3597851110001cf6248a43df362067a4396a8d747bfe12d47c6'+ '&text=5 avenue Anatole France, 75007 Paris'\n",
    "test_2 = location(geocoding_url)\n"
   ]
  },
  {
   "cell_type": "code",
   "execution_count": null,
   "id": "2a6579bb",
   "metadata": {},
   "outputs": [],
   "source": []
  }
 ],
 "metadata": {
  "kernelspec": {
   "display_name": "Python 3 (ipykernel)",
   "language": "python",
   "name": "python3"
  },
  "language_info": {
   "codemirror_mode": {
    "name": "ipython",
    "version": 3
   },
   "file_extension": ".py",
   "mimetype": "text/x-python",
   "name": "python",
   "nbconvert_exporter": "python",
   "pygments_lexer": "ipython3",
   "version": "3.9.7"
  }
 },
 "nbformat": 4,
 "nbformat_minor": 5
}
