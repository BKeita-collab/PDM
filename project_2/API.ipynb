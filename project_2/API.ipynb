{
 "cells": [
  {
   "cell_type": "code",
   "execution_count": 1,
   "id": "96f6ade7",
   "metadata": {},
   "outputs": [],
   "source": [
    "## Importation of the packages \n",
    "import json \n",
    "import requests"
   ]
  },
  {
   "cell_type": "code",
   "execution_count": 70,
   "id": "5b8a35a2",
   "metadata": {},
   "outputs": [
    {
     "data": {
      "text/plain": [
       "{'Authorization': '5b3ce3597851110001cf6248a43df362067a4396a8d747bfe12d47c6'}"
      ]
     },
     "execution_count": 70,
     "metadata": {},
     "output_type": "execute_result"
    }
   ],
   "source": [
    "## Header Dictionnary \n",
    "header_dict = {\n",
    "    \"Authorization\" : '5b3ce3597851110001cf6248a43df362067a4396a8d747bfe12d47c6'\n",
    "}\n",
    "header_dict "
   ]
  },
  {
   "cell_type": "code",
   "execution_count": 51,
   "id": "3ca2ffe3",
   "metadata": {},
   "outputs": [],
   "source": [
    "### Geocoding URL \n",
    "url_geocoding = 'https://api.openrouteservice.org/geocode/search?api_key=5b3ce3597851110001cf624894bc9991e18844d58c8215f966965e3d&text=5 avenue Anatole France, 75007 Paris'\n",
    "my_token = '5b3ce3597851110001cf6248a43df362067a4396a8d747bfe12d47c6'"
   ]
  },
  {
   "cell_type": "code",
   "execution_count": 55,
   "id": "f956ed39",
   "metadata": {},
   "outputs": [
    {
     "data": {
      "text/plain": [
       "[2.592687, 48.840096]"
      ]
     },
     "execution_count": 55,
     "metadata": {},
     "output_type": "execute_result"
    }
   ],
   "source": [
    "def adress_coord(geocoding_url,authentification = my_token ): \n",
    "    \"\"\"\n",
    "    This function will convert an input adress in str and will return \n",
    "    the coordinates that matches the input adress\n",
    "\n",
    "    Parameters\n",
    "    ----------\n",
    "    geocoding_url : str\n",
    "        It's the requests send by the user.\n",
    "        Ex: https://api.openrouteservice.org/geocode/search?api_key=5b3ce3597851110001cf624894bc9991e18844d58c8215f966965e3d&text=5%20avenue%20Anatole%20France,%2075007%20Paris\n",
    "    \n",
    "    authentification: str \n",
    "        It's the token, it's the authentification key. By default, my values will be use. \n",
    "        Ex : 5b3ce3597851110001cf6248a43df362067a4396a8d747bfe12d47c6\n",
    "\n",
    "    Returns\n",
    "    -------\n",
    "    coordinates : list.\n",
    "    It's the coordinates of the corresponding point of the adress. \n",
    "    Ex : [2.592687, 48.840096]\n",
    "\n",
    "    \"\"\"\n",
    "    r = requests.get(geocoding_url, authentification)\n",
    "    \n",
    "    if r.status_code == 200:\n",
    "        # Get returned data of the request\n",
    "        returned_data = r.text\n",
    "         # Transform JSON data to Python object\n",
    "        data = json.loads(returned_data)\n",
    "        # We Print data with indentation using json module\n",
    "        #data_dumped = json.dumps(data, indent=4)\n",
    "        coordinates = data['features'][0]['geometry']['coordinates']\n",
    "\n",
    "        return coordinates \n",
    "    else:\n",
    "        #print(\"error: status_code={}\".format(r.status_code))\n",
    "        returned_data = \"error: status_code={}\".format(r.status_code)\n",
    "        return returned_data\n",
    "\n",
    "geocoding_url = 'https://api.openrouteservice.org/geocode/search?' + 'api_key=5b3ce3597851110001cf6248a43df362067a4396a8d747bfe12d47c6' + '&text=15 avenue Blaise Pascal, 77420 Champs-sur-Marne'\n",
    "test_1 = adress_coord(geocoding_url)\n",
    "\n",
    "test_1"
   ]
  },
  {
   "cell_type": "code",
   "execution_count": 72,
   "id": "d2895643",
   "metadata": {},
   "outputs": [
    {
     "data": {
      "text/plain": [
       "(3235.4, 2329.4)"
      ]
     },
     "execution_count": 72,
     "metadata": {},
     "output_type": "execute_result"
    }
   ],
   "source": [
    "post_url = 'https://api.openrouteservice.org/v2/' + 'directions/' + 'foot-walking/' + 'json'\n",
    "\n",
    "def best_journey(post_url, start,end,authentification = my_token ): \n",
    "    \"\"\"\n",
    "    This function will compute the best direction from start to end\n",
    "\n",
    "    Parameters\n",
    "    ----------\n",
    "    start : tuple \n",
    "        It's the starting point.\n",
    "        Ex: (2.36309,48.86703)\n",
    "    \n",
    "    end : tuple \n",
    "        It's the destination point.\n",
    "        Ex: (2.32738,48.86381)\n",
    "    \n",
    "    authentification: str \n",
    "        It's the token, it's the authentification key. By default, my values will be use. \n",
    "        Ex : 5b3ce3597851110001cf6248a43df362067a4396a8d747bfe12d47c6\n",
    "\n",
    "    Returns\n",
    "    -------\n",
    "    distance : float.\n",
    "        It's the distance in meter(m) return in meter. \n",
    "        Ex : 2592687\n",
    "    duration : float.\n",
    "        It's the time in seconde(s) spent to go from starting point to the destination point. \n",
    "        Ex : 25 \n",
    "        \n",
    "\n",
    "    \"\"\"\n",
    "    body = {\"coordinates\":[[start[0],start[1]],[end[0],end[1]]]}\n",
    "\n",
    "    r = requests.post(post_url,headers = header_dict, json = body)\n",
    "\n",
    "    if r.status_code == 200:\n",
    "        # Get returned data of the request\n",
    "        returned_data = r.text\n",
    "        # Transform JSON data to Python object\n",
    "        data = json.loads(returned_data)\n",
    "        # We Print data with indentation using json module\n",
    "        #data_dumped = json.dumps(data, indent=4)\n",
    "        distance = data['routes'][0]['summary']['distance']\n",
    "        duration = data['routes'][0]['summary']['duration']\n",
    "        return distance , duration \n",
    "    else:\n",
    "        #print(\"error: status_code={}\".format(r.status_code))\n",
    "        returned_data = \"error: status_code={}\".format(r.status_code)\n",
    "        return returned_data\n",
    "\n",
    "\n",
    "a = best_journey(post_url , start = (2.36309,48.86703) , end =  (2.32738,48.86381))\n",
    "a"
   ]
  },
  {
   "cell_type": "code",
   "execution_count": 65,
   "id": "210128fd",
   "metadata": {},
   "outputs": [],
   "source": [
    "a = (0 , 0)"
   ]
  },
  {
   "cell_type": "code",
   "execution_count": 57,
   "id": "50ee28eb",
   "metadata": {},
   "outputs": [
    {
     "data": {
      "text/plain": [
       "0"
      ]
     },
     "execution_count": 57,
     "metadata": {},
     "output_type": "execute_result"
    }
   ],
   "source": [
    "a[0]"
   ]
  },
  {
   "cell_type": "code",
   "execution_count": null,
   "id": "c64ccca1",
   "metadata": {},
   "outputs": [],
   "source": []
  }
 ],
 "metadata": {
  "kernelspec": {
   "display_name": "Python 3 (ipykernel)",
   "language": "python",
   "name": "python3"
  },
  "language_info": {
   "codemirror_mode": {
    "name": "ipython",
    "version": 3
   },
   "file_extension": ".py",
   "mimetype": "text/x-python",
   "name": "python",
   "nbconvert_exporter": "python",
   "pygments_lexer": "ipython3",
   "version": "3.9.7"
  }
 },
 "nbformat": 4,
 "nbformat_minor": 5
}
